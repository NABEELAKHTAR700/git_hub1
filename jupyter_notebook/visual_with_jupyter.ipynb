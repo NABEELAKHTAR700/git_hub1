{
 "cells": [
  {
   "cell_type": "markdown",
   "id": "fbdbf335",
   "metadata": {},
   "source": [
    "# Python Ka Chilla With Aammar\n",
    "## Use Jupyternotebook\n",
    "### Basic of Python\n",
    "\n",
    "1_My first program\n",
    "\n",
    "2_My second program"
   ]
  },
  {
   "cell_type": "markdown",
   "id": "05a9aaed",
   "metadata": {},
   "source": [
    "#***1-New program***"
   ]
  },
  {
   "cell_type": "code",
   "execution_count": 1,
   "id": "b1e92cb1",
   "metadata": {},
   "outputs": [
    {
     "name": "stdout",
     "output_type": "stream",
     "text": [
      "5\n",
      "Hello Word\n",
      "I learn python with Aammar\n"
     ]
    }
   ],
   "source": [
    "print(2+3)\n",
    "print(\"Hello Word\")\n",
    "print(\"I learn python with Aammar\")\n"
   ]
  },
  {
   "cell_type": "markdown",
   "id": "266e06e2",
   "metadata": {},
   "source": [
    "#***2-Operators***"
   ]
  },
  {
   "cell_type": "code",
   "execution_count": 2,
   "id": "1cddbb20",
   "metadata": {},
   "outputs": [
    {
     "name": "stdout",
     "output_type": "stream",
     "text": [
      "5\n",
      "1\n",
      "4.5\n",
      "4\n",
      "1\n",
      "8\n",
      "48.333333333333336\n"
     ]
    }
   ],
   "source": [
    "print(2+3)\n",
    "print(3-2)\n",
    "print(9/2)\n",
    "print(9//2)\n",
    "print(9%8)\n",
    "print(2**3)\n",
    "\n",
    "\n",
    "print(3**3+22-2/3)"
   ]
  },
  {
   "cell_type": "markdown",
   "id": "100fb2cd",
   "metadata": {},
   "source": [
    "PEMDAS\n",
    "Parenthesis Exponents Multiply Divide Addition Subtraction\n",
    "Left to Right Sequence for P E M D A S"
   ]
  },
  {
   "cell_type": "markdown",
   "id": "f11352fe",
   "metadata": {},
   "source": [
    "#***3-Strings***"
   ]
  },
  {
   "cell_type": "code",
   "execution_count": 3,
   "id": "c9eb235e",
   "metadata": {},
   "outputs": [
    {
     "name": "stdout",
     "output_type": "stream",
     "text": [
      "Hello Word\n",
      "I learn python with Aammar\n",
      "Test for single quotes\n",
      "test for second quotes\n",
      " test for triple quotes\n",
      "What's  up    ?\n"
     ]
    }
   ],
   "source": [
    "print(\"Hello Word\")\n",
    "print(\"I learn python with Aammar\")\n",
    "\n",
    "\n",
    "\n",
    "print('Test for single quotes')\n",
    "print(\"test for second quotes\")\n",
    "print(''' test for triple quotes''')\n",
    "\n",
    "print(\"What's  up    ?\")"
   ]
  },
  {
   "cell_type": "markdown",
   "id": "20ed3643",
   "metadata": {},
   "source": [
    "#***4-Comments***"
   ]
  },
  {
   "cell_type": "code",
   "execution_count": 4,
   "id": "e15e1cc9",
   "metadata": {},
   "outputs": [
    {
     "name": "stdout",
     "output_type": "stream",
     "text": [
      "How Are YOU\n",
      "We Are learning python with Aammar\n",
      "5\n"
     ]
    }
   ],
   "source": [
    "print('How Are YOU')                                                  \n",
    "print(\"We Are learning python with Aammar\")                           \n",
    "print(2+3)                                                            "
   ]
  },
  {
   "cell_type": "markdown",
   "id": "9a1dfa94",
   "metadata": {},
   "source": [
    "#***5-Variables***"
   ]
  },
  {
   "cell_type": "code",
   "execution_count": 5,
   "id": "37738ebb",
   "metadata": {},
   "outputs": [
    {
     "name": "stdout",
     "output_type": "stream",
     "text": [
      "5\n",
      "We are learning python with Aammar\n",
      "10\n",
      "<class 'int'>\n",
      "<class 'str'>\n",
      "<class 'tuple'>\n",
      "('Mangoes', 'Oranges')\n"
     ]
    }
   ],
   "source": [
    "Varibales: \"Objects containing specific values\"\n",
    "x=5                                     \n",
    "print(x)\n",
    "\n",
    "y=\"We are learning python with Aammar\"  \n",
    "print(y)\n",
    "\n",
    "x=10\n",
    "print(x)\n",
    "\n",
    "\n",
    "\"Types of Variables\"\n",
    "type(x)\n",
    "print(type(x))\n",
    "\n",
    "\n",
    "print(type(y))\n",
    "\n",
    "\n",
    "fruit_basket=8\n",
    "fruit_basket=\"Mangoes\",\"Oranges\"\n",
    "#del fruit_basket\n",
    "print(type(fruit_basket))\n",
    "print(fruit_basket)"
   ]
  },
  {
   "cell_type": "markdown",
   "id": "0ba89a2d",
   "metadata": {},
   "source": [
    "#***6-Input Variables***"
   ]
  },
  {
   "cell_type": "code",
   "execution_count": 6,
   "id": "7af1041f",
   "metadata": {},
   "outputs": [
    {
     "name": "stdout",
     "output_type": "stream",
     "text": [
      "Mangoes\n",
      "What is your favourite fruit  ?mango\n",
      "mango\n"
     ]
    }
   ],
   "source": [
    "fruit_basket=\"Mangoes\"\n",
    "print(fruit_basket)\n",
    "\n",
    "\"input function simple\"\n",
    "fruit_basket=input(\"What is your favourite fruit  ?\")\n",
    "print(fruit_basket)\n",
    "\n",
    "#\"input function of 2nd stage\"\n",
    "#name=input(\"What is your name  ?\")\n",
    "#greetings=\"Hello\"\n",
    "#print(greetings, name)\n",
    "\n",
    "#\"another way of stage 2 input function\"\n",
    "#name=input(\"What is your name  ?\")\n",
    "#print(\"Hello\", name)\n",
    "\n",
    "\n",
    "#\"3rd stage input function\"\n",
    "#name=input(\"What is your name?  \")\n",
    "#age=input(\"How old are you?\")\n",
    "#greetings=\"Hello!\"\n",
    "\n",
    "#print(greetings,name,\"you are still young\")"
   ]
  },
  {
   "cell_type": "markdown",
   "id": "953b41e8",
   "metadata": {},
   "source": [
    "#***7-Conditional logics***"
   ]
  },
  {
   "cell_type": "code",
   "execution_count": 7,
   "id": "6a009bcc",
   "metadata": {},
   "outputs": [
    {
     "name": "stdout",
     "output_type": "stream",
     "text": [
      "False\n",
      "How old is hammad?  5\n",
      "<class 'int'>\n",
      "True\n"
     ]
    }
   ],
   "source": [
    "# logical operators are either \"True or False\" or \"Yes or No\" or \"0 or 1\"\n",
    "# equal to                       ==\n",
    "# not equal to                   != \n",
    "# greater than                   >\n",
    "# less than                      <\n",
    "# greater than and equal to      >=\n",
    "# less than and equal to         <=\n",
    "\n",
    "#is 4 equal to 4\n",
    "#print(4==4)\n",
    "#print(4!=4)\n",
    "#print(3>5)\n",
    "#print(5<6)\n",
    "#print(5>=6)\n",
    "#print(3<=5)\n",
    "\n",
    "#application of logical operators\n",
    "hammad_age=4\n",
    "age_at_school=5\n",
    "print(hammad_age==age_at_school)\n",
    "\n",
    "#input function and logical operator\n",
    "age_at_school=5        \n",
    "hammad_age=input(\"How old is hammad?  \")  #input function\n",
    "hammad_age=int(hammad_age)\n",
    "print(type(hammad_age))\n",
    "print(hammad_age==age_at_school)   #logical operator\n"
   ]
  },
  {
   "cell_type": "markdown",
   "id": "607ad1ad",
   "metadata": {},
   "source": [
    "#***8-Types Conversion***"
   ]
  },
  {
   "cell_type": "code",
   "execution_count": 8,
   "id": "f9f036b3",
   "metadata": {},
   "outputs": [
    {
     "name": "stdout",
     "output_type": "stream",
     "text": [
      "What is your name?  Nabeel\n",
      "<class 'str'>\n",
      "Nabeel <class 'str'>\n"
     ]
    }
   ],
   "source": [
    "name=input(\"What is your name?  \")\n",
    "print(type(name))\n",
    "print(name,type(name))\n"
   ]
  }
 ],
 "metadata": {
  "kernelspec": {
   "display_name": "Python 3.10.7 64-bit",
   "language": "python",
   "name": "python3"
  },
  "language_info": {
   "codemirror_mode": {
    "name": "ipython",
    "version": 3
   },
   "file_extension": ".py",
   "mimetype": "text/x-python",
   "name": "python",
   "nbconvert_exporter": "python",
   "pygments_lexer": "ipython3",
   "version": "3.10.7"
  },
  "vscode": {
   "interpreter": {
    "hash": "fbc768028c3e6ead51d9a200ddcb2ec858ae62844dcd1994729a8279be9b48f2"
   }
  }
 },
 "nbformat": 4,
 "nbformat_minor": 5
}
