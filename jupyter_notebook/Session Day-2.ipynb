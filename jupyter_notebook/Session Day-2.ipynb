{
 "cells": [
  {
   "cell_type": "code",
   "execution_count": 1,
   "id": "d24a02e8",
   "metadata": {},
   "outputs": [],
   "source": [
    "# Body mass index (BMI)\n",
    "# Input Weight\n",
    "# Height\n",
    "\n",
    "# BMI(Ask your self your height)\n",
    "# Weight\n",
    "# Calculate BMI\n",
    "# print BMI (My name is______,and my BMI is_______)"
   ]
  },
  {
   "cell_type": "code",
   "execution_count": 2,
   "id": "d52da4f3",
   "metadata": {},
   "outputs": [],
   "source": [
    "# Weight in kg/height in m and its square"
   ]
  },
  {
   "cell_type": "code",
   "execution_count": 3,
   "id": "e8448832",
   "metadata": {
    "scrolled": true
   },
   "outputs": [
    {
     "name": "stdout",
     "output_type": "stream",
     "text": [
      "what is your height?   1.74\n"
     ]
    }
   ],
   "source": [
    "height=input(\"what is your height?   \")"
   ]
  },
  {
   "cell_type": "code",
   "execution_count": null,
   "id": "d9d1b081",
   "metadata": {},
   "outputs": [],
   "source": [
    "height=float(height)"
   ]
  },
  {
   "cell_type": "code",
   "execution_count": 5,
   "id": "31be9f23",
   "metadata": {},
   "outputs": [
    {
     "name": "stdout",
     "output_type": "stream",
     "text": [
      "what is your weight?   68\n"
     ]
    }
   ],
   "source": [
    "weight=input(\"what is your weight?   \")"
   ]
  },
  {
   "cell_type": "code",
   "execution_count": 6,
   "id": "7e9cf6eb",
   "metadata": {},
   "outputs": [],
   "source": [
    "weight=float(weight)"
   ]
  },
  {
   "cell_type": "code",
   "execution_count": 7,
   "id": "c01cb9cf",
   "metadata": {},
   "outputs": [
    {
     "name": "stdout",
     "output_type": "stream",
     "text": [
      "what is your name?    Nabeel\n"
     ]
    }
   ],
   "source": [
    "name=input(\"what is your name?    \")"
   ]
  },
  {
   "cell_type": "code",
   "execution_count": 8,
   "id": "9048cf80",
   "metadata": {},
   "outputs": [
    {
     "data": {
      "text/plain": [
       "22.460034350640772"
      ]
     },
     "execution_count": 8,
     "metadata": {},
     "output_type": "execute_result"
    }
   ],
   "source": [
    "BMI=weight/height**2\n",
    "BMI"
   ]
  },
  {
   "cell_type": "code",
   "execution_count": 10,
   "id": "25258859",
   "metadata": {},
   "outputs": [
    {
     "name": "stdout",
     "output_type": "stream",
     "text": [
      "My name is Nabeel and my BMI is 22.460034350640772\n"
     ]
    }
   ],
   "source": [
    "print(\"My name is\",name,\"and my BMI is\",BMI)"
   ]
  },
  {
   "cell_type": "code",
   "execution_count": null,
   "id": "9cbaa367",
   "metadata": {},
   "outputs": [],
   "source": []
  },
  {
   "cell_type": "code",
   "execution_count": null,
   "id": "505622f3",
   "metadata": {},
   "outputs": [],
   "source": []
  },
  {
   "cell_type": "code",
   "execution_count": null,
   "id": "fcfe3f53",
   "metadata": {},
   "outputs": [],
   "source": []
  },
  {
   "cell_type": "code",
   "execution_count": null,
   "id": "301751d7",
   "metadata": {},
   "outputs": [],
   "source": []
  },
  {
   "cell_type": "code",
   "execution_count": null,
   "id": "1b290a61",
   "metadata": {},
   "outputs": [],
   "source": []
  },
  {
   "cell_type": "code",
   "execution_count": null,
   "id": "c6afe77f",
   "metadata": {},
   "outputs": [],
   "source": []
  },
  {
   "cell_type": "code",
   "execution_count": null,
   "id": "ab1ebf7d",
   "metadata": {},
   "outputs": [],
   "source": []
  },
  {
   "cell_type": "code",
   "execution_count": null,
   "id": "8f01a2cb",
   "metadata": {},
   "outputs": [],
   "source": []
  },
  {
   "cell_type": "code",
   "execution_count": null,
   "id": "13824016",
   "metadata": {},
   "outputs": [],
   "source": []
  },
  {
   "cell_type": "code",
   "execution_count": null,
   "id": "4d8f7f02",
   "metadata": {},
   "outputs": [],
   "source": []
  },
  {
   "cell_type": "code",
   "execution_count": null,
   "id": "576e3262",
   "metadata": {},
   "outputs": [],
   "source": []
  },
  {
   "cell_type": "code",
   "execution_count": null,
   "id": "9c44bbb9",
   "metadata": {},
   "outputs": [],
   "source": []
  },
  {
   "cell_type": "code",
   "execution_count": null,
   "id": "4a86058c",
   "metadata": {},
   "outputs": [],
   "source": []
  },
  {
   "cell_type": "code",
   "execution_count": null,
   "id": "6e1d8063",
   "metadata": {},
   "outputs": [],
   "source": []
  },
  {
   "cell_type": "code",
   "execution_count": null,
   "id": "d7e5cedc",
   "metadata": {},
   "outputs": [],
   "source": []
  },
  {
   "cell_type": "code",
   "execution_count": null,
   "id": "822a7d79",
   "metadata": {},
   "outputs": [],
   "source": []
  },
  {
   "cell_type": "code",
   "execution_count": null,
   "id": "906eb606",
   "metadata": {},
   "outputs": [],
   "source": []
  },
  {
   "cell_type": "code",
   "execution_count": null,
   "id": "7f4f543e",
   "metadata": {},
   "outputs": [],
   "source": []
  },
  {
   "cell_type": "code",
   "execution_count": null,
   "id": "7594e943",
   "metadata": {},
   "outputs": [],
   "source": []
  },
  {
   "cell_type": "code",
   "execution_count": null,
   "id": "92ffcab3",
   "metadata": {},
   "outputs": [],
   "source": []
  },
  {
   "cell_type": "code",
   "execution_count": null,
   "id": "fc3062fd",
   "metadata": {},
   "outputs": [],
   "source": []
  },
  {
   "cell_type": "code",
   "execution_count": null,
   "id": "a5d3154c",
   "metadata": {},
   "outputs": [],
   "source": []
  }
 ],
 "metadata": {
  "kernelspec": {
   "display_name": "Python 3 (ipykernel)",
   "language": "python",
   "name": "python3"
  },
  "language_info": {
   "codemirror_mode": {
    "name": "ipython",
    "version": 3
   },
   "file_extension": ".py",
   "mimetype": "text/x-python",
   "name": "python",
   "nbconvert_exporter": "python",
   "pygments_lexer": "ipython3",
   "version": "3.9.12"
  }
 },
 "nbformat": 4,
 "nbformat_minor": 5
}
