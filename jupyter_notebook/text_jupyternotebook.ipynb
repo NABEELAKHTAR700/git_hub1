{
 "cells": [
  {
   "cell_type": "markdown",
   "id": "23cc8c98",
   "metadata": {},
   "source": [
    "\n",
    "\n",
    "\n",
    "\n",
    "\n",
    "\n",
    "\n",
    "\n",
    "\n",
    "# python ka chilla\n",
    "## how to use juoyternotebook\n",
    "### Basic of python\n",
    "1_ My first program\n",
    "\n",
    "2_ My second program"
   ]
  },
  {
   "cell_type": "code",
   "execution_count": 1,
   "id": "9978b4da",
   "metadata": {},
   "outputs": [
    {
     "name": "stdout",
     "output_type": "stream",
     "text": [
      "5\n",
      "Hello Word\n",
      "I learn python with Aammar\n"
     ]
    }
   ],
   "source": [
    "#print(\"my first programm\")\n",
    "print(2+3)\n",
    "print(\"Hello Word\")\n",
    "print(\"I learn python with Aammar\")"
   ]
  },
  {
   "cell_type": "code",
   "execution_count": 2,
   "id": "d6ffd8f0",
   "metadata": {},
   "outputs": [
    {
     "name": "stdout",
     "output_type": "stream",
     "text": [
      "5\n",
      "Hello Word\n",
      "I learn python with Aammar\n"
     ]
    }
   ],
   "source": [
    "print(2+3)\n",
    "print(\"Hello Word\")\n",
    "print(\"I learn python with Aammar\")"
   ]
  },
  {
   "cell_type": "markdown",
   "id": "f52d6bee",
   "metadata": {},
   "source": [
    "****02-operators****"
   ]
  },
  {
   "cell_type": "code",
   "execution_count": 11,
   "id": "212b4cc4",
   "metadata": {},
   "outputs": [
    {
     "name": "stdout",
     "output_type": "stream",
     "text": [
      "5\n",
      "1\n",
      "4.5\n",
      "4\n",
      "1\n",
      "8\n",
      "48.333333333333336\n"
     ]
    }
   ],
   "source": [
    "print(2+3)\n",
    "print(3-2)\n",
    "print(9/2)\n",
    "print(9//2)\n",
    "print(9%8)\n",
    "print(2**3)\n",
    "\n",
    "\n",
    "print(3**3+22-2/3)"
   ]
  },
  {
   "cell_type": "markdown",
   "id": "0d7e50d4",
   "metadata": {},
   "source": [
    "PEMDAS\n",
    "Parenthesis Exponents Multiply Divide Addition Subtraction\n",
    "Left to Right Sequence for P E M D A S"
   ]
  },
  {
   "cell_type": "markdown",
   "id": "a1ae14b7",
   "metadata": {},
   "source": []
  }
 ],
 "metadata": {
  "kernelspec": {
   "display_name": "Python 3 (ipykernel)",
   "language": "python",
   "name": "python3"
  },
  "language_info": {
   "codemirror_mode": {
    "name": "ipython",
    "version": 3
   },
   "file_extension": ".py",
   "mimetype": "text/x-python",
   "name": "python",
   "nbconvert_exporter": "python",
   "pygments_lexer": "ipython3",
   "version": "3.9.12"
  }
 },
 "nbformat": 4,
 "nbformat_minor": 5
}
